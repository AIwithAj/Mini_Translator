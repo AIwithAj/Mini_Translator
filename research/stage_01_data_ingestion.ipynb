{
 "cells": [
  {
   "cell_type": "code",
   "execution_count": 1,
   "metadata": {},
   "outputs": [],
   "source": [
    "import os\n",
    "os.chdir(\"../\")"
   ]
  },
  {
   "cell_type": "code",
   "execution_count": 2,
   "metadata": {},
   "outputs": [
    {
     "data": {
      "text/plain": [
       "'c:\\\\Users\\\\lenovo\\\\Desktop\\\\Mini_Translator'"
      ]
     },
     "execution_count": 2,
     "metadata": {},
     "output_type": "execute_result"
    }
   ],
   "source": [
    "%pwd\n",
    "\n"
   ]
  },
  {
   "cell_type": "code",
   "execution_count": 3,
   "metadata": {},
   "outputs": [],
   "source": [
    "from dataclasses import dataclass\n",
    "from pathlib import Path\n",
    "\n",
    "@dataclass(frozen=True)\n",
    "class DataIngestionConfig:\n",
    "    root_dir:Path\n",
    "    raw_path:Path\n",
    "    dataset_name:str\n",
    "    raw_data:Path\n",
    "    train:Path\n",
    "    valid:Path\n",
    "    test:Path\n",
    "    "
   ]
  },
  {
   "cell_type": "code",
   "execution_count": 26,
   "metadata": {},
   "outputs": [],
   "source": [
    "from src.Mini_Translator.constants import *\n",
    "from src.Mini_Translator.utils.common import read_yaml,create_directories"
   ]
  },
  {
   "cell_type": "code",
   "execution_count": 5,
   "metadata": {},
   "outputs": [],
   "source": [
    "class ConfigurationManager:\n",
    "    def __init__(\n",
    "            self,\n",
    "            config_filepath=CONFIG_FILE_PATH,\n",
    "            params_filepath=PARAMS_FILE_PATH):\n",
    "        \n",
    "        self.config=read_yaml(config_filepath)\n",
    "        self.params=read_yaml(params_filepath)\n",
    "\n",
    "        create_directories([self.config.artifacts_root])\n",
    "\n",
    "    def get_data_ingestion_config(self) ->DataIngestionConfig:\n",
    "        config=self.config.data_ingestion\n",
    "\n",
    "        create_directories([config.root_dir,config.raw_path])\n",
    "\n",
    "        data_ingestion_config=DataIngestionConfig(\n",
    "            root_dir=config.root_dir,\n",
    "            raw_path=config.raw_path,\n",
    "            dataset_name=config.dataset_name,\n",
    "            raw_data=config.data_files.raw_data,\n",
    "            train=config.data_files.train,\n",
    "            valid=config.data_files.validation,\n",
    "            test=config.data_files.test\n",
    "            \n",
    "        )\n",
    "\n",
    "        return data_ingestion_config\n",
    "        \n",
    "        "
   ]
  },
  {
   "cell_type": "code",
   "execution_count": 6,
   "metadata": {},
   "outputs": [
    {
     "name": "stderr",
     "output_type": "stream",
     "text": [
      "c:\\Users\\lenovo\\AppData\\Local\\Programs\\Python\\Python310\\lib\\site-packages\\tqdm\\auto.py:21: TqdmWarning: IProgress not found. Please update jupyter and ipywidgets. See https://ipywidgets.readthedocs.io/en/stable/user_install.html\n",
      "  from .autonotebook import tqdm as notebook_tqdm\n"
     ]
    },
    {
     "name": "stdout",
     "output_type": "stream",
     "text": [
      "[2024-05-21 17:16:01,452: INFO: config: PyTorch version 2.3.0 available.]\n",
      "[2024-05-21 17:16:01,461: INFO: config: TensorFlow version 2.16.1 available.]\n"
     ]
    }
   ],
   "source": [
    "import os\n",
    "from src.Mini_Translator.logging import logger\n",
    "from src.Mini_Translator.utils.common import get_size\n",
    "import datasets"
   ]
  },
  {
   "cell_type": "code",
   "execution_count": 10,
   "metadata": {},
   "outputs": [],
   "source": [
    "# dataset=datasets.load_dataset(\"bentrevett/multi30k\")"
   ]
  },
  {
   "cell_type": "code",
   "execution_count": null,
   "metadata": {},
   "outputs": [],
   "source": [
    "# dataset"
   ]
  },
  {
   "cell_type": "code",
   "execution_count": 23,
   "metadata": {},
   "outputs": [],
   "source": [
    "# import json\n",
    "\n",
    "# # Convert the dataset to a serializable format (e.g., nested dictionaries and lists)\n",
    "# serializable_dataset = {\n",
    "#     \"train\": list(dataset[\"train\"]),\n",
    "#     \"test\": list(dataset[\"test\"]),\n",
    "#     \"validation\": list(dataset[\"validation\"])\n",
    "# }\n",
    "\n",
    "# # Save the serializable dataset to a JSON file\n",
    "# with open('dataset.json', 'w') as json_file:\n",
    "#     json.dump(serializable_dataset, json_file, indent=4)\n"
   ]
  },
  {
   "cell_type": "code",
   "execution_count": 19,
   "metadata": {},
   "outputs": [
    {
     "name": "stdout",
     "output_type": "stream",
     "text": [
      "{'en': 'Two young, White males are outside near many bushes.', 'de': 'Zwei junge weiße Männer sind im Freien in der Nähe vieler Büsche.'}\n"
     ]
    }
   ],
   "source": [
    "# for example in dataset['train']:\n",
    "#     print(example)\n",
    "#     break"
   ]
  },
  {
   "cell_type": "code",
   "execution_count": 24,
   "metadata": {},
   "outputs": [],
   "source": [
    "import os\n",
    "import json\n",
    "\n",
    "class DataIngestion:\n",
    "    def __init__(self, config):\n",
    "        self.config = config\n",
    "\n",
    "    def convert_dataset_to_serializable(self, dataset):\n",
    "        return [example for example in dataset]\n",
    "\n",
    "    def initiate_data_ingestion(self):\n",
    "        logger.info(\"Initiating dataIngestion..\")\n",
    "        try:\n",
    "            dataset = datasets.load_dataset(self.config.dataset_name)\n",
    "        except Exception as e:\n",
    "            logger.info(\"incorrect dataset\")\n",
    "            raise e\n",
    "\n",
    "        serializable_dataset = {\n",
    "            \"train\": list(dataset[\"train\"]),\n",
    "            \"test\": list(dataset[\"test\"]),\n",
    "            \"validation\": list(dataset[\"validation\"])\n",
    "        }\n",
    "\n",
    "        # Save the serializable dataset to a JSON file\n",
    "        with open(self.config.raw_data, 'w') as json_file:\n",
    "            json.dump(serializable_dataset, json_file, indent=4)\n",
    "\n",
    "        train_data, valid_data, test_data = dataset[\"train\"], dataset[\"validation\"], dataset[\"test\"]\n",
    "\n",
    "        train_data_serializable = self.convert_dataset_to_serializable(train_data)\n",
    "        valid_data_serializable = self.convert_dataset_to_serializable(valid_data)\n",
    "        test_data_serializable = self.convert_dataset_to_serializable(test_data)\n",
    "\n",
    "        logger.info(\"saving train, valid, test dataset..\")\n",
    "        with open(self.config.train, 'w') as train_file:\n",
    "            json.dump(train_data_serializable, train_file, indent=4)\n",
    "        with open(self.config.valid, 'w') as valid_file:\n",
    "            json.dump(valid_data_serializable, valid_file, indent=4)\n",
    "        with open(self.config.test, 'w') as test_file:\n",
    "            json.dump(test_data_serializable, test_file, indent=4)\n",
    "\n",
    "        logger.info(\"data_ingestion successfully saved\")\n"
   ]
  },
  {
   "cell_type": "code",
   "execution_count": null,
   "metadata": {},
   "outputs": [],
   "source": []
  },
  {
   "cell_type": "code",
   "execution_count": 25,
   "metadata": {},
   "outputs": [
    {
     "name": "stdout",
     "output_type": "stream",
     "text": [
      "[2024-05-21 17:30:08,979: INFO: common: yaml file: config\\config.yaml loaded successfully]\n",
      "[2024-05-21 17:30:08,984: INFO: common: yaml file: params.yaml loaded successfully]\n",
      "[2024-05-21 17:30:08,987: INFO: common: created directory at: artifacts]\n",
      "[2024-05-21 17:30:08,991: INFO: common: created directory at: artifacts/data_ingestion]\n",
      "[2024-05-21 17:30:08,994: INFO: 3451821151: Initiating dataIngestion..]\n",
      "[2024-05-21 17:30:20,162: INFO: 3451821151: saving train, valid, test dataset..]\n",
      "[2024-05-21 17:30:20,884: INFO: 3451821151: data_ingestion successfully saved]\n"
     ]
    }
   ],
   "source": [
    "try:\n",
    "    config = ConfigurationManager()\n",
    "    data_ingestion_config = config.get_data_ingestion_config()\n",
    "    data_ingestion = DataIngestion(config=data_ingestion_config)\n",
    "    data_ingestion.initiate_data_ingestion()\n",
    "except Exception as e:\n",
    "    raise e"
   ]
  },
  {
   "cell_type": "code",
   "execution_count": null,
   "metadata": {},
   "outputs": [],
   "source": []
  },
  {
   "cell_type": "code",
   "execution_count": null,
   "metadata": {},
   "outputs": [],
   "source": []
  }
 ],
 "metadata": {
  "kernelspec": {
   "display_name": "Python 3",
   "language": "python",
   "name": "python3"
  },
  "language_info": {
   "codemirror_mode": {
    "name": "ipython",
    "version": 3
   },
   "file_extension": ".py",
   "mimetype": "text/x-python",
   "name": "python",
   "nbconvert_exporter": "python",
   "pygments_lexer": "ipython3",
   "version": "3.10.5"
  }
 },
 "nbformat": 4,
 "nbformat_minor": 2
}
